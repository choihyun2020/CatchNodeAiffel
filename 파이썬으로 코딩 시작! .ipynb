{
 "cells": [
  {
   "cell_type": "markdown",
   "id": "e282cbc3",
   "metadata": {},
   "source": [
    "# 파이썬 코딩 시작\n",
    "\n",
    "* 변수(variavble)\n",
    "* 함수(function)\n",
    "* 연산자(operator)\n",
    "* 제어문(control statements)\n",
    "* 자료형(data types)"
   ]
  },
  {
   "cell_type": "markdown",
   "id": "7078f59c",
   "metadata": {},
   "source": [
    "## 함수 호출\n",
    "\n",
    "프로그래밍 분야에서는 입력값을 주로 인자(argument)라고 함   \n",
    "'변수' > 어떤 관계나 범위 안에서 여러 가지 값으로 변할 수 있는 수라고 정의되어 있음.  \n",
    "위"
   ]
  },
  {
   "cell_type": "code",
   "execution_count": 1,
   "id": "1de2d5aa",
   "metadata": {},
   "outputs": [
    {
     "name": "stdout",
     "output_type": "stream",
     "text": [
      "안녕!\n"
     ]
    }
   ],
   "source": [
    "def say_hi():\n",
    "    print('안녕!')\n",
    "\n",
    "    \n",
    "say_hi()"
   ]
  },
  {
   "cell_type": "markdown",
   "id": "18e27633",
   "metadata": {},
   "source": [
    "함수에서 띄어쓰기를 안 했을 경우 뜨는 에러 :IndentationError: expected an indented block"
   ]
  },
  {
   "cell_type": "code",
   "execution_count": 2,
   "id": "00a5df0e",
   "metadata": {},
   "outputs": [
    {
     "name": "stdout",
     "output_type": "stream",
     "text": [
      "안녕!\n",
      "반가워.\n"
     ]
    }
   ],
   "source": [
    "def say_hi_nice():\n",
    "    print('안녕!')\n",
    "    print('반가워.')\n",
    "    \n",
    "say_hi_nice()   "
   ]
  },
  {
   "cell_type": "code",
   "execution_count": 3,
   "id": "0b6abb5e",
   "metadata": {},
   "outputs": [
    {
     "name": "stdout",
     "output_type": "stream",
     "text": [
      "하루\n",
      "시우\n"
     ]
    }
   ],
   "source": [
    "name = '하루'\n",
    "#- name이라는 변수는 문자열 '하루'를 가리킵니다.\n",
    "\n",
    "def say_name():\n",
    "    print(name)\n",
    "#- say_name() 함수의 밖에서 정의된 변수(name), 즉 '하루'를 읽어옵니다.\n",
    "\n",
    "say_name()\n",
    "\n",
    "name = '시우'\n",
    "#- 이제, name이라는 변수는 문자열 '시우'를 가리킵니다.\n",
    "\n",
    "say_name()"
   ]
  },
  {
   "cell_type": "code",
   "execution_count": 4,
   "id": "c5aad8bd",
   "metadata": {},
   "outputs": [
    {
     "name": "stdout",
     "output_type": "stream",
     "text": [
      "하루\n"
     ]
    }
   ],
   "source": [
    "name = '하루'\n",
    "#- name은 문자열 '하루'를 가리키는 변수입니다.\n",
    "\n",
    "def change_name():\n",
    "    name = '시우'\n",
    "    #- 여기서 name은 해당 함수 내에서만 문자열 '시우'를 가리킵니다.\n",
    "\n",
    "change_name()\n",
    "#- 함수를 호출해도 아무 일도 일어나지 않습니다.\n",
    "\n",
    "print(name)\n",
    "#- 첫 줄, 즉 함수 바깥에서 정의된 문자열 '하루'가 출력됩니다."
   ]
  },
  {
   "cell_type": "code",
   "execution_count": 5,
   "id": "965a848b",
   "metadata": {},
   "outputs": [
    {
     "name": "stdout",
     "output_type": "stream",
     "text": [
      "준이, 안녕!\n"
     ]
    }
   ],
   "source": [
    "def say_hi_somebody(name):\n",
    "    print(name + ', 안녕!')\n",
    "#- 함수를 정의합니다. \n",
    "#- 이 함수는 문자열인 한 개의 입력값을 받아, '[name], 안녕!'을 출력합니다.\n",
    "\n",
    "say_hi_somebody('준이')\n",
    "#- 위에서 정의한 함수를 호출합니다.\n",
    "#- \"준이, 안녕!\"이라고 부르기 위해 입력값으로 '준이'를 주었습니다."
   ]
  },
  {
   "cell_type": "markdown",
   "id": "5d52a5f6",
   "metadata": {},
   "source": [
    "매개변수 입력하지 않고 함수 호출할 경우 오류 남  \n",
    "그리고 매개변수 지정되지 않은 함수에 매개변수 입력해도 오류 남  \n"
   ]
  },
  {
   "cell_type": "code",
   "execution_count": 6,
   "id": "daeb4f8e",
   "metadata": {},
   "outputs": [
    {
     "name": "stdout",
     "output_type": "stream",
     "text": [
      "안녕, 준이!\n",
      "안녕, somebody!\n"
     ]
    }
   ],
   "source": [
    "def say_hi_default(name='somebody'):\n",
    "    print('안녕, ' + name + '!')\n",
    "\n",
    "say_hi_default('준이')\n",
    "say_hi_default()"
   ]
  },
  {
   "cell_type": "code",
   "execution_count": 8,
   "id": "9985c227",
   "metadata": {},
   "outputs": [
    {
     "name": "stdout",
     "output_type": "stream",
     "text": [
      "그리, 단테 안녕!\n"
     ]
    }
   ],
   "source": [
    "def say_hi_couple(name1, name2):\n",
    "    print(name1 + ', ' + name2 + ' 안녕!')\n",
    "\n",
    "say_hi_couple('그리', '단테')"
   ]
  },
  {
   "cell_type": "markdown",
   "id": "a3b9c5c8",
   "metadata": {},
   "source": [
    "변수가 하나만 입력된다면 오류가 난다. "
   ]
  },
  {
   "cell_type": "code",
   "execution_count": 9,
   "id": "8877c86c",
   "metadata": {},
   "outputs": [
    {
     "name": "stdout",
     "output_type": "stream",
     "text": [
      "그리, 단테 안녕!\n"
     ]
    }
   ],
   "source": [
    "say_hi_couple(name1='그리', name2='단테')"
   ]
  },
  {
   "cell_type": "code",
   "execution_count": 10,
   "id": "c4bda6f0",
   "metadata": {},
   "outputs": [
    {
     "name": "stdout",
     "output_type": "stream",
     "text": [
      "단테, 그리 안녕!\n"
     ]
    }
   ],
   "source": [
    "say_hi_couple(name2='그리', name1='단테')"
   ]
  },
  {
   "cell_type": "code",
   "execution_count": 11,
   "id": "7096338f",
   "metadata": {},
   "outputs": [],
   "source": [
    "def say_hi_couple_default(name1, name2='nobody'):\n",
    "    print(name1 + ', ' + name2 + ' 안녕!')"
   ]
  },
  {
   "cell_type": "code",
   "execution_count": 12,
   "id": "b446b0f2",
   "metadata": {},
   "outputs": [
    {
     "name": "stdout",
     "output_type": "stream",
     "text": [
      "3\n"
     ]
    }
   ],
   "source": [
    "def add(number1, number2):\n",
    "    print(number1 + number2)\n",
    "\n",
    "add(1, 2)"
   ]
  },
  {
   "cell_type": "code",
   "execution_count": 13,
   "id": "b62d850d",
   "metadata": {},
   "outputs": [],
   "source": [
    "def add_and_return(number1, number2):\n",
    "    print(number1 + number2)\n",
    "    return number1 + number2"
   ]
  },
  {
   "cell_type": "code",
   "execution_count": 14,
   "id": "fbf6db88",
   "metadata": {},
   "outputs": [
    {
     "name": "stdout",
     "output_type": "stream",
     "text": [
      "D\n",
      "C\n",
      "A\n",
      "B\n"
     ]
    }
   ],
   "source": [
    "def print_two(word1, word2):\n",
    "    print(word1)\n",
    "    print(word2)\n",
    "\n",
    "def print_and_return(word1, word2, word3):\n",
    "    print_two(word3, word2)\n",
    "    return word1\n",
    "\n",
    "print_two('A', print_and_return('B', 'C', 'D'))"
   ]
  },
  {
   "cell_type": "markdown",
   "id": "5cd14376",
   "metadata": {},
   "source": [
    "먼저 print_and_return('B', 'C', 'D')이 호출.  \n",
    "print_and_return('B', 'C', 'D')이 호출되면서 이 함수 안에 있는 함수 print_two(word3, word2)이 호출되어 D와 C가 출력.  \n",
    "그 후 print_two('A', print_and_return('B', 'C', 'D'))이 호출되면서 print('A')과 print(print_and_return('B', 'C', 'D'))이 실행.  \n",
    "print('A')에서는 A가, print(print_and_return('B', 'C', 'D'))에서는 return 값인 B가 출력.  \n",
    "따라서 출력 결과가 D C A B 나옴."
   ]
  },
  {
   "cell_type": "markdown",
   "id": "8bae2d5b",
   "metadata": {},
   "source": [
    "## 제어문 "
   ]
  },
  {
   "cell_type": "markdown",
   "id": "42435a8d",
   "metadata": {},
   "source": [
    "### (1) if"
   ]
  },
  {
   "cell_type": "code",
   "execution_count": 15,
   "id": "4752d1de",
   "metadata": {},
   "outputs": [
    {
     "name": "stdout",
     "output_type": "stream",
     "text": [
      "1\n"
     ]
    }
   ],
   "source": [
    "def print_if_positive(number):\n",
    "    if number >= 0:\n",
    "        print(number)\n",
    "#- 숫자가 0보다 크거나 같을(>=) 경우 즉, 0 이상일 경우에만 숫자를 출력합니다.\n",
    "\n",
    "print_if_positive(1)\n",
    "print_if_positive(-1)"
   ]
  },
  {
   "cell_type": "code",
   "execution_count": 17,
   "id": "303d395b",
   "metadata": {},
   "outputs": [
    {
     "name": "stdout",
     "output_type": "stream",
     "text": [
      "+\n",
      "-\n"
     ]
    }
   ],
   "source": [
    "def print_whether_positive_or_negative(number):\n",
    "    if number >= 0:\n",
    "        print('+')\n",
    "    else:\n",
    "        print('-')\n",
    "#- 숫자가 0보다 크거나 같으면 +를, 작으면 -를 출력합니다.\n",
    "\n",
    "print_whether_positive_or_negative(1)\n",
    "print_whether_positive_or_negative(-1)"
   ]
  },
  {
   "cell_type": "code",
   "execution_count": 18,
   "id": "a17abd3c",
   "metadata": {},
   "outputs": [
    {
     "name": "stdout",
     "output_type": "stream",
     "text": [
      "+\n",
      "0\n",
      "-\n"
     ]
    }
   ],
   "source": [
    "def print_whether_positive_or_negative_or_zero(number):\n",
    "    if number > 0:\n",
    "        print('+')\n",
    "    elif number == 0:\n",
    "        print('0')\n",
    "    else:\n",
    "        print('-')\n",
    "#- 숫자가 양수이면 +를, 음수이면 -를, 양수도 음수도 아닌 0일 경우 그대로 0을 출력합니다.\n",
    "\n",
    "print_whether_positive_or_negative_or_zero(1)\n",
    "print_whether_positive_or_negative_or_zero(0)\n",
    "print_whether_positive_or_negative_or_zero(-1)"
   ]
  },
  {
   "cell_type": "code",
   "execution_count": 19,
   "id": "3b86a192",
   "metadata": {},
   "outputs": [
    {
     "name": "stdout",
     "output_type": "stream",
     "text": [
      "2\n"
     ]
    }
   ],
   "source": [
    "def print_if_positive_and_even(number):\n",
    "    if (number > 0) and (number % 2 == 0):\n",
    "        print(number)\n",
    "\n",
    "#- 숫자가 양수이고(and) 짝수일 때 해당 숫자를 출력합니다.\n",
    "#-- 양수 : number > 0\n",
    "#-- 짝수 : number % 2 == 0 즉, 숫자를 2로 나눈 나머지가 0인 경우\n",
    "\n",
    "print_if_positive_and_even(1)\n",
    "print_if_positive_and_even(-1)\n",
    "print_if_positive_and_even(2)\n",
    "print_if_positive_and_even(-2)"
   ]
  },
  {
   "cell_type": "code",
   "execution_count": 20,
   "id": "ec308342",
   "metadata": {},
   "outputs": [
    {
     "name": "stdout",
     "output_type": "stream",
     "text": [
      "1\n",
      "-1\n",
      "-2\n"
     ]
    }
   ],
   "source": [
    "def print_if_negative_or_odd(number):\n",
    "    if (number < 0) or (number % 2 != 0):\n",
    "        print(number)\n",
    "#- 숫자가 음수이거나(or) 홀수일 때 해당 숫자를 출력합니다.\n",
    "#- 음수 : number < 0\n",
    "#- 홀수 : number % 2 != 0 즉, 짝수가 아닐 때\n",
    "\n",
    "print_if_negative_or_odd(1)\n",
    "print_if_negative_or_odd(-1)\n",
    "print_if_negative_or_odd(2)\n",
    "print_if_negative_or_odd(-2)"
   ]
  },
  {
   "cell_type": "markdown",
   "id": "082c5c81",
   "metadata": {},
   "source": [
    "### while"
   ]
  },
  {
   "cell_type": "code",
   "execution_count": 23,
   "id": "dd95cd77",
   "metadata": {},
   "outputs": [
    {
     "name": "stdout",
     "output_type": "stream",
     "text": [
      "1\n",
      "1\n",
      "2\n",
      "3\n",
      "5\n",
      "8\n",
      "13\n",
      "21\n",
      "34\n",
      "55\n",
      "89\n",
      "144\n",
      "233\n",
      "377\n",
      "610\n",
      "987\n",
      "1597\n",
      "2584\n",
      "4181\n",
      "6765\n",
      "끝!\n"
     ]
    }
   ],
   "source": [
    "def fibonacci(n):\n",
    "    if n <= 2:\n",
    "        return 1\n",
    "    else:\n",
    "        return fibonacci(n-2) + fibonacci(n-1)\n",
    "\n",
    "n = 1\n",
    "while n <= 20:\n",
    "    print(fibonacci(n))\n",
    "    n = n + 1\n",
    "print('끝!')"
   ]
  },
  {
   "cell_type": "markdown",
   "id": "ba330cd2",
   "metadata": {},
   "source": [
    "### for"
   ]
  },
  {
   "cell_type": "markdown",
   "id": "16676959",
   "metadata": {},
   "source": [
    "엮여서 하나씩 순서대로 넘길(iterate) 수 있는 값들을 반복 가능한(iterable, 이터러블) 객체 라고 한다. for 루프를 써서 순서대로 엮인 값들을 하나씩 처리할 수 있다."
   ]
  },
  {
   "cell_type": "code",
   "execution_count": 24,
   "id": "bb2cefbf",
   "metadata": {},
   "outputs": [
    {
     "name": "stdout",
     "output_type": "stream",
     "text": [
      "H\n",
      "e\n",
      "l\n",
      "l\n",
      "o\n"
     ]
    }
   ],
   "source": [
    "for character in 'Hello':\n",
    "    print(character)"
   ]
  },
  {
   "cell_type": "markdown",
   "id": "c93c0207",
   "metadata": {},
   "source": [
    "### 자료형"
   ]
  },
  {
   "cell_type": "code",
   "execution_count": 25,
   "id": "ffc8621c",
   "metadata": {},
   "outputs": [
    {
     "name": "stdout",
     "output_type": "stream",
     "text": [
      "<class 'int'>\n"
     ]
    }
   ],
   "source": [
    "print(type(1))"
   ]
  },
  {
   "cell_type": "markdown",
   "id": "65b5a1c9",
   "metadata": {},
   "source": [
    "자료형 정수 _ integer, 'int'"
   ]
  },
  {
   "cell_type": "code",
   "execution_count": 27,
   "id": "9dc56651",
   "metadata": {},
   "outputs": [
    {
     "name": "stdout",
     "output_type": "stream",
     "text": [
      "1000000000000000000000000000000\n"
     ]
    }
   ],
   "source": [
    "number = 1000 ** 10\n",
    "print(number)"
   ]
  },
  {
   "cell_type": "code",
   "execution_count": 28,
   "id": "327c6350",
   "metadata": {},
   "outputs": [
    {
     "name": "stdout",
     "output_type": "stream",
     "text": [
      "olleH\n"
     ]
    }
   ],
   "source": [
    "message = 'Hello'\n",
    "print(message[::-1])  # 거꾸로 출력"
   ]
  },
  {
   "cell_type": "code",
   "execution_count": 29,
   "id": "e08f6d3a",
   "metadata": {},
   "outputs": [
    {
     "name": "stdout",
     "output_type": "stream",
     "text": [
      "Hello\n",
      "Hell\n",
      "Hlo\n"
     ]
    }
   ],
   "source": [
    "message = 'Hello'\n",
    "print(message[::1])  # 기본 (한 칸 씩)\n",
    "print(message[:-1:1])  # 기본 (한 칸 씩)\n",
    "print(message[::2])  # 두 칸 씩"
   ]
  },
  {
   "cell_type": "markdown",
   "id": "833f25a9",
   "metadata": {},
   "source": [
    "### 튜플과 리스트 "
   ]
  },
  {
   "cell_type": "code",
   "execution_count": 30,
   "id": "27968c77",
   "metadata": {},
   "outputs": [
    {
     "name": "stdout",
     "output_type": "stream",
     "text": [
      "1\n",
      "2\n",
      "3\n"
     ]
    }
   ],
   "source": [
    "numbers = (1, 2, 3)\n",
    "for number in numbers:\n",
    "    print(number)"
   ]
  },
  {
   "cell_type": "code",
   "execution_count": 31,
   "id": "917385cf",
   "metadata": {},
   "outputs": [
    {
     "name": "stdout",
     "output_type": "stream",
     "text": [
      "1\n"
     ]
    }
   ],
   "source": [
    "tuple_123 = (1, 2, 3)\n",
    "print(tuple_123[0])"
   ]
  },
  {
   "cell_type": "code",
   "execution_count": 32,
   "id": "01579804",
   "metadata": {},
   "outputs": [
    {
     "name": "stdout",
     "output_type": "stream",
     "text": [
      "3\n"
     ]
    }
   ],
   "source": [
    "nested_tuple = ((1, 2), (3, 4))\n",
    "print(nested_tuple[1][0])"
   ]
  },
  {
   "cell_type": "code",
   "execution_count": 33,
   "id": "6334c3d8",
   "metadata": {},
   "outputs": [
    {
     "name": "stdout",
     "output_type": "stream",
     "text": [
      "(1, 2, 3, 4)\n"
     ]
    }
   ],
   "source": [
    "tuple_a = (1, 2)\n",
    "tuple_b = (3, 4)\n",
    "print(tuple_a + tuple_b)"
   ]
  },
  {
   "cell_type": "code",
   "execution_count": 34,
   "id": "ee12d2cf",
   "metadata": {},
   "outputs": [
    {
     "name": "stdout",
     "output_type": "stream",
     "text": [
      "True\n",
      "False\n"
     ]
    }
   ],
   "source": [
    "tuple_abc = ('a', 'b', 'c')\n",
    "print('a' in tuple_abc)\n",
    "print('d' in tuple_abc)"
   ]
  },
  {
   "cell_type": "code",
   "execution_count": 35,
   "id": "27e2a2db",
   "metadata": {},
   "outputs": [
    {
     "name": "stdout",
     "output_type": "stream",
     "text": [
      "[1, 2] ['3', '4']\n"
     ]
    }
   ],
   "source": [
    "list_a = [1, 2]\n",
    "list_b = ['3', '4']\n",
    "print(list_a, list_b)"
   ]
  },
  {
   "cell_type": "code",
   "execution_count": 36,
   "id": "af22af8c",
   "metadata": {},
   "outputs": [
    {
     "name": "stdout",
     "output_type": "stream",
     "text": [
      "[0, 2, 3]\n"
     ]
    }
   ],
   "source": [
    "list_123 = [1, 2, 3]\n",
    "list_123[0] = 0\n",
    "print(list_123)"
   ]
  },
  {
   "cell_type": "code",
   "execution_count": 37,
   "id": "3ba6aee4",
   "metadata": {},
   "outputs": [
    {
     "name": "stdout",
     "output_type": "stream",
     "text": [
      "[1, 2, 3, 4]\n",
      "[1, 2, 3]\n",
      "[2, 3]\n"
     ]
    }
   ],
   "source": [
    "list_123 = [1, 2, 3]\n",
    "list_123.append(4)\n",
    "print(list_123)\n",
    "\n",
    "list_123.remove(4)\n",
    "print(list_123)\n",
    "\n",
    "list_123.pop(0)\n",
    "print(list_123)"
   ]
  },
  {
   "cell_type": "markdown",
   "id": "3a452e1b",
   "metadata": {},
   "source": [
    "### 딕셔너리"
   ]
  },
  {
   "cell_type": "code",
   "execution_count": 38,
   "id": "f3dccd7e",
   "metadata": {},
   "outputs": [
    {
     "name": "stdout",
     "output_type": "stream",
     "text": [
      "단테\n"
     ]
    }
   ],
   "source": [
    "conductor = {'first_name': '단테', 'last_name': '안'}\n",
    "print(conductor['first_name'])"
   ]
  },
  {
   "cell_type": "code",
   "execution_count": 39,
   "id": "48f9f75d",
   "metadata": {},
   "outputs": [
    {
     "name": "stdout",
     "output_type": "stream",
     "text": [
      "{'first_name': '단테', 'last_name': '안', 'gender': 'male'}\n"
     ]
    }
   ],
   "source": [
    "conductor = {'first_name': '단테', 'last_name': '안'}\n",
    "conductor['gender'] = 'male'\n",
    "print(conductor)"
   ]
  },
  {
   "cell_type": "code",
   "execution_count": 40,
   "id": "32501b8f",
   "metadata": {},
   "outputs": [
    {
     "name": "stdout",
     "output_type": "stream",
     "text": [
      "{'first_name': '단테'}\n"
     ]
    }
   ],
   "source": [
    "conductor = {'first_name': '단테', 'last_name': '안'}\n",
    "conductor.pop('last_name')\n",
    "print(conductor)"
   ]
  },
  {
   "cell_type": "code",
   "execution_count": 41,
   "id": "9b8abe58",
   "metadata": {},
   "outputs": [
    {
     "name": "stdout",
     "output_type": "stream",
     "text": [
      "first_name\n",
      "last_name\n"
     ]
    }
   ],
   "source": [
    "conductor = {'first_name': '단테', 'last_name': '안'}\n",
    "for key in conductor:\n",
    "    print(key)"
   ]
  },
  {
   "cell_type": "code",
   "execution_count": 42,
   "id": "fc606ceb",
   "metadata": {},
   "outputs": [
    {
     "name": "stdout",
     "output_type": "stream",
     "text": [
      "first_name : 단테\n",
      "last_name : 안\n"
     ]
    }
   ],
   "source": [
    "conductor = {'first_name': '단테', 'last_name': '안'}\n",
    "for key, value in conductor.items():\n",
    "    print(key + ' : ' + value)"
   ]
  },
  {
   "cell_type": "markdown",
   "id": "eb8a8966",
   "metadata": {},
   "source": [
    "* 함수(function) : 불려진 시점에 특정한 작업을 수행하며, 입력값을 출력값(반환값)을  가질 수 있습니다.\n",
    "\n",
    "- 인자(argument) : 함수를 호출할 때 전달하는 입력값입니다.  \n",
    "- 매개변수(parameter) : 함수가 실행될 때 입력값이 들어올 변수입니다. \n",
    "- 반환값(return value) : 함수가 종료될 때 호출 지점으로 전달할 출력값입니다.\n",
    "\n",
    "* 변수(variable) : 값을 가리키는 이름입니다.\n",
    "\n",
    "- 스코프(scope) : 변수가 유효한 범위입니다. \n",
    "\n",
    "* 연산자(operator) : 주어진 값들에 대해 정해진 연산을 수행합니다. \n",
    "\n",
    "- 수리 연산자(mathematical operator) : +, -, *, /, //, **\n",
    "- 비교 연산자(comparison operator) : ==, !=, <, >, <=, >=, is\n",
    "- 논리 연산자(logical operator) : and, or\n",
    "- 소속 연산자(membership operator) : in\n",
    "\n",
    "* 제어문(control statements) : 코드 블록의 흐름(실행 여부, 반복)을 제어합니다. \n",
    "\n",
    "- if : 명제가 참이면 실행합니다. \n",
    "- else : if 명제 이외의 경우에 실행합니다. \n",
    "- elif : if 명제 이외의 경우에 또 다른 명제가 참일 경우에 실행합니다.\n",
    "- while : 명제가 참일 동안 반복합니다. \n",
    "- for : 주어진 값들 하나씩 반복합니다. \n",
    "- 자료형(data types) : 값들의 종류를 나타냅니다.\n",
    "- 정수(int), 부동소수점 수(float), 불리언(bool), 문자열(str), 튜플(tuple), 리스트(list), 딕셔너리(dict)"
   ]
  },
  {
   "cell_type": "code",
   "execution_count": null,
   "id": "1acc18c6",
   "metadata": {},
   "outputs": [],
   "source": []
  }
 ],
 "metadata": {
  "kernelspec": {
   "display_name": "Python 3 (ipykernel)",
   "language": "python",
   "name": "python3"
  },
  "language_info": {
   "codemirror_mode": {
    "name": "ipython",
    "version": 3
   },
   "file_extension": ".py",
   "mimetype": "text/x-python",
   "name": "python",
   "nbconvert_exporter": "python",
   "pygments_lexer": "ipython3",
   "version": "3.9.7"
  }
 },
 "nbformat": 4,
 "nbformat_minor": 5
}
